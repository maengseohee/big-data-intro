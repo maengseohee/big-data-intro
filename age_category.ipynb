{
 "cells": [
  {
   "cell_type": "code",
   "execution_count": 1,
   "metadata": {},
   "outputs": [],
   "source": [
    "# [+] SparkSession 설정\n",
    "from pyspark.sql import SparkSession\n",
    "\n",
    "spark = SparkSession.builder.master('local').appName('udf').getOrCreate()"
   ]
  },
  {
   "cell_type": "code",
   "execution_count": 5,
   "metadata": {},
   "outputs": [],
   "source": [
    "age_category = [\n",
    "    ('김정현', 22),\n",
    "    ('진용훈', 30),\n",
    "    ('손동주', 25),\n",
    "    ('김민재', 21),\n",
    "    ('맹서희', 22),\n",
    "    ('맹서진', 19),\n",
    "    ('김예진', 22),\n",
    "    ('유예원', 22),\n",
    "    ('유시원', 15),\n",
    "]"
   ]
  },
  {
   "cell_type": "code",
   "execution_count": 6,
   "metadata": {},
   "outputs": [],
   "source": [
    "# [+] 스키마 정의\n",
    "schema = ['name', 'age']"
   ]
  },
  {
   "cell_type": "code",
   "execution_count": 7,
   "metadata": {},
   "outputs": [],
   "source": [
    "# [+] 데이터프레임 생성\n",
    "df = spark.createDataFrame(age_category, schema)"
   ]
  },
  {
   "cell_type": "code",
   "execution_count": 8,
   "metadata": {},
   "outputs": [
    {
     "name": "stdout",
     "output_type": "stream",
     "text": [
      "+------+---+\n",
      "|  name|age|\n",
      "+------+---+\n",
      "|김정현| 22|\n",
      "|진용훈| 30|\n",
      "|손동주| 25|\n",
      "|김민재| 21|\n",
      "|맹서희| 22|\n",
      "|맹서진| 19|\n",
      "|김예진| 22|\n",
      "|유예원| 22|\n",
      "|유시원| 15|\n",
      "+------+---+\n",
      "\n"
     ]
    }
   ],
   "source": [
    "# [+] 데이터프레임 출력\n",
    "df.show()"
   ]
  },
  {
   "cell_type": "code",
   "execution_count": 9,
   "metadata": {},
   "outputs": [
    {
     "name": "stdout",
     "output_type": "stream",
     "text": [
      "root\n",
      " |-- name: string (nullable = true)\n",
      " |-- age: long (nullable = true)\n",
      "\n"
     ]
    }
   ],
   "source": [
    "# [+] 데이터프레임 스키마 출력\n",
    "df.printSchema()"
   ]
  },
  {
   "cell_type": "code",
   "execution_count": 10,
   "metadata": {},
   "outputs": [],
   "source": [
    "# [+] Temporary View 생성\n",
    "df.createOrReplaceTempView('category')"
   ]
  },
  {
   "cell_type": "code",
   "execution_count": 13,
   "metadata": {},
   "outputs": [
    {
     "name": "stdout",
     "output_type": "stream",
     "text": [
      "+------+---+\n",
      "|  name|age|\n",
      "+------+---+\n",
      "|김정현| 22|\n",
      "|진용훈| 30|\n",
      "|손동주| 25|\n",
      "|김민재| 21|\n",
      "|맹서희| 22|\n",
      "|맹서진| 19|\n",
      "|김예진| 22|\n",
      "|유예원| 22|\n",
      "|유시원| 15|\n",
      "+------+---+\n",
      "\n"
     ]
    }
   ],
   "source": [
    "# SQL문처리\n",
    "spark.sql(\n",
    "    \"SELECT name, age \\\n",
    "     FROM category\").show()"
   ]
  }
 ],
 "metadata": {
  "kernelspec": {
   "display_name": "Python 3 (ipykernel)",
   "language": "python",
   "name": "python3"
  },
  "language_info": {
   "codemirror_mode": {
    "name": "ipython",
    "version": 3
   },
   "file_extension": ".py",
   "mimetype": "text/x-python",
   "name": "python",
   "nbconvert_exporter": "python",
   "pygments_lexer": "ipython3",
   "version": "3.10.9"
  }
 },
 "nbformat": 4,
 "nbformat_minor": 4
}
